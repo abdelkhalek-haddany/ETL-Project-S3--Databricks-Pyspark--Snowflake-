{
 "cells": [
  {
   "cell_type": "markdown",
   "metadata": {
    "application/vnd.databricks.v1+cell": {
     "cellMetadata": {
      "byteLimit": 2048000,
      "rowLimit": 10000
     },
     "inputWidgets": {},
     "nuid": "ed16827e-262a-42da-9229-65b28d16417b",
     "showTitle": false,
     "title": ""
    }
   },
   "source": [
    "# Preprocessing Retail Transaction Dtaset"
   ]
  },
  {
   "cell_type": "code",
   "execution_count": 0,
   "metadata": {
    "application/vnd.databricks.v1+cell": {
     "cellMetadata": {
      "byteLimit": 2048000,
      "rowLimit": 10000
     },
     "inputWidgets": {},
     "nuid": "f570f96a-d250-4b3d-90bb-0f209867c905",
     "showTitle": false,
     "title": ""
    }
   },
   "outputs": [],
   "source": [
    "## Checking pyspark installation\n",
    "import pyspark"
   ]
  },
  {
   "cell_type": "code",
   "execution_count": 0,
   "metadata": {
    "application/vnd.databricks.v1+cell": {
     "cellMetadata": {
      "byteLimit": 2048000,
      "rowLimit": 10000
     },
     "inputWidgets": {},
     "nuid": "f0cc0a21-d90e-4179-b105-c34598c94fef",
     "showTitle": false,
     "title": ""
    }
   },
   "outputs": [],
   "source": [
    "## Libraries importation\n",
    "from pyspark.sql import SparkSession\n",
    "from pyspark.sql.types import StructType, StructField, StringType, IntegerType, ArrayType, MapType, DateType, FloatType,BooleanType\n",
    "from pyspark.sql import functions as F"
   ]
  },
  {
   "cell_type": "markdown",
   "metadata": {},
   "source": [
    "### Connect to S3 to get data"
   ]
  },
  {
   "cell_type": "code",
   "execution_count": 0,
   "metadata": {
    "application/vnd.databricks.v1+cell": {
     "cellMetadata": {
      "byteLimit": 2048000,
      "rowLimit": 10000
     },
     "inputWidgets": {},
     "nuid": "e177202c-9093-4dd6-8e4a-e3e22f6994c6",
     "showTitle": false,
     "title": ""
    }
   },
   "outputs": [],
   "source": [
    "spark.conf.set(\"fs.s3a.access.key\", \"\")\n",
    "spark.conf.set(\"fs.s3a.secret.key\", \"\")\n",
    "spark.conf.set(\"fs.s3a.endpoint\", \"s3.amazonaws.com\")"
   ]
  },
  {
   "cell_type": "code",
   "execution_count": 0,
   "metadata": {
    "application/vnd.databricks.v1+cell": {
     "cellMetadata": {
      "byteLimit": 2048000,
      "rowLimit": 10000
     },
     "inputWidgets": {},
     "nuid": "f3183447-17a9-4cbc-ac1d-3a5f49e7d60b",
     "showTitle": false,
     "title": ""
    }
   },
   "outputs": [],
   "source": [
    "## Create spark session \n",
    "spark = SparkSession.builder.appName(\"transactions1\").getOrCreate()"
   ]
  },
  {
   "cell_type": "code",
   "execution_count": 0,
   "metadata": {
    "application/vnd.databricks.v1+cell": {
     "cellMetadata": {
      "byteLimit": 2048000,
      "rowLimit": 10000
     },
     "inputWidgets": {},
     "nuid": "22a13263-63e5-4a29-a1df-d6a876862b8d",
     "showTitle": false,
     "title": ""
    }
   },
   "outputs": [
    {
     "name": "stdout",
     "output_type": "stream",
     "text": [
      "+--------------+-------------------+-------------+--------------------+-----------+----------+--------------+-----------+--------------+----------------+-----------------+------+---------+\n",
      "|Transaction_ID|               Date|Customer_Name|             Product|Total_Items|Total_Cost|Payment_Method|       City|    Store_Type|Discount_Applied|Customer_Category|Season|Promotion|\n",
      "+--------------+-------------------+-------------+--------------------+-----------+----------+--------------+-----------+--------------+----------------+-----------------+------+---------+\n",
      "|    1000000000|2022-01-21 06:27:29| Stacey Price|['Ketchup', 'Shav...|          3|     71.65|Mobile Payment|Los Angeles|Warehouse Club|            True|        Homemaker|Winter|     None|\n",
      "+--------------+-------------------+-------------+--------------------+-----------+----------+--------------+-----------+--------------+----------------+-----------------+------+---------+\n",
      "only showing top 1 row\n",
      "\n"
     ]
    }
   ],
   "source": [
    "## Check our data\n",
    "df = spark.read.option('header', True).csv('s3://retail-transactions/transactions.csv')\n",
    "df.show(1)"
   ]
  },
  {
   "cell_type": "markdown",
   "metadata": {},
   "source": [
    "### create custom schema for data"
   ]
  },
  {
   "cell_type": "code",
   "execution_count": 0,
   "metadata": {
    "application/vnd.databricks.v1+cell": {
     "cellMetadata": {
      "byteLimit": 2048000,
      "rowLimit": 10000
     },
     "inputWidgets": {},
     "nuid": "41641d42-64fb-48eb-b18d-ead15bc0ea72",
     "showTitle": false,
     "title": ""
    }
   },
   "outputs": [],
   "source": [
    "\n",
    "custom_schem = StructType([\n",
    "    StructField('Transaction_ID', IntegerType(), False),\n",
    "    StructField('Date', DateType(), True),\n",
    "    StructField('Customer_Name', StringType(), True),\n",
    "    StructField('Product', StringType(), True),\n",
    "    StructField('Total_Items', IntegerType(), True),\n",
    "    StructField('Total_Cost', FloatType(), True),\n",
    "    StructField('Payment_Method', StringType(), True),\n",
    "    StructField('City', StringType(), True),\n",
    "    StructField('Store_Type', StringType(), True),\n",
    "    StructField('Discount_Applied', BooleanType(), True),\n",
    "    StructField('Customer_Category', StringType(), True),\n",
    "    StructField('Season', StringType(), True),\n",
    "    StructField('Promotion', StringType(), True),\n",
    "])"
   ]
  },
  {
   "cell_type": "markdown",
   "metadata": {},
   "source": [
    "### create Dataframe using the created scema"
   ]
  },
  {
   "cell_type": "code",
   "execution_count": 0,
   "metadata": {
    "application/vnd.databricks.v1+cell": {
     "cellMetadata": {
      "byteLimit": 2048000,
      "rowLimit": 10000
     },
     "inputWidgets": {},
     "nuid": "884e4c70-b2dd-49be-b69a-db1f9efc1cc1",
     "showTitle": false,
     "title": ""
    }
   },
   "outputs": [],
   "source": [
    "## Create dataframe form csv file\n",
    "df = spark.read.option('header', True).schema(custom_schem).csv('s3://retail-transactions/transactions.csv')"
   ]
  },
  {
   "cell_type": "code",
   "execution_count": 0,
   "metadata": {
    "application/vnd.databricks.v1+cell": {
     "cellMetadata": {
      "byteLimit": 2048000,
      "rowLimit": 10000
     },
     "inputWidgets": {},
     "nuid": "f5180f28-4d69-4395-8209-1fc8bda7fa21",
     "showTitle": false,
     "title": ""
    }
   },
   "outputs": [
    {
     "name": "stdout",
     "output_type": "stream",
     "text": [
      "+--------------+----------+-----------------+--------------------+-----------+----------+--------------+-------------+-----------------+----------------+-----------------+------+--------------------+\n",
      "|Transaction_ID|      Date|    Customer_Name|             Product|Total_Items|Total_Cost|Payment_Method|         City|       Store_Type|Discount_Applied|Customer_Category|Season|           Promotion|\n",
      "+--------------+----------+-----------------+--------------------+-----------+----------+--------------+-------------+-----------------+----------------+-----------------+------+--------------------+\n",
      "|    1000000000|2022-01-21|     Stacey Price|['Ketchup', 'Shav...|          3|     71.65|Mobile Payment|  Los Angeles|   Warehouse Club|            true|        Homemaker|Winter|                None|\n",
      "|    1000000001|2023-03-01| Michelle Carlson|['Ice Cream', 'Mi...|          2|     25.93|          Cash|San Francisco|  Specialty Store|            true|     Professional|  Fall|BOGO (Buy One Get...|\n",
      "|    1000000002|2024-03-21|      Lisa Graves|         ['Spinach']|          6|     41.49|   Credit Card|      Houston| Department Store|            true|     Professional|Winter|                None|\n",
      "|    1000000003|2020-10-31|Mrs. Patricia May|['Tissues', 'Must...|          1|     39.34|Mobile Payment|      Chicago|         Pharmacy|            true|        Homemaker|Spring|                None|\n",
      "|    1000000004|2020-12-10|   Susan Mitchell|       ['Dish Soap']|         10|     16.42|    Debit Card|      Houston|  Specialty Store|           false|      Young Adult|Winter|Discount on Selec...|\n",
      "|    1000000005|2021-10-07|   Joshua Frazier|['Toothpaste', 'C...|          3|     72.24|          Cash|      Houston|      Supermarket|            true|          Retiree|Spring|Discount on Selec...|\n",
      "|    1000000006|2023-01-08| Victoria Garrett|['Honey', 'BBQ Sa...|          4|      5.28|          Cash|       Boston|  Specialty Store|           false|          Student|Summer|Discount on Selec...|\n",
      "|    1000000007|2020-09-03|    Sydney Waller|['Syrup', 'Trash ...|          5|     21.77|    Debit Card|      Chicago|  Specialty Store|           false|      Young Adult|Winter|Discount on Selec...|\n",
      "|    1000000008|2021-04-05|  Kimberly Morgan|['Insect Repellent']|          4|     55.25|Mobile Payment|  Los Angeles|   Warehouse Club|           false|        Homemaker|  Fall|                None|\n",
      "|    1000000009|2021-07-08|      Lori Conway|['Soap', 'Baby Wi...|          7|     31.21|Mobile Payment|       Boston|Convenience Store|            true|      Young Adult|Winter|                None|\n",
      "|    1000000010|2020-03-18|  Randall Roberts|['Extension Cords...|          8|     91.59|    Debit Card|       Boston| Department Store|            true|      Middle-Aged|  Fall|BOGO (Buy One Get...|\n",
      "|    1000000011|2023-03-30|   Jeremiah White|['Tea', 'Paper To...|          7|     31.88|Mobile Payment|     New York|  Specialty Store|           false|      Young Adult|  Fall|Discount on Selec...|\n",
      "|    1000000012|2023-05-27|     Sheila Mcgee|['Salmon', 'Shavi...|          9|     39.75|    Debit Card|     New York|         Pharmacy|           false|          Student|Summer|Discount on Selec...|\n",
      "|    1000000013|2023-04-02|      Allen Miles|['Trash Bags', 'A...|          7|     17.51|Mobile Payment|      Seattle|   Warehouse Club|           false|          Retiree|Winter|BOGO (Buy One Get...|\n",
      "|    1000000014|2020-04-09|      Mark Howard|['Razors', 'Laund...|          1|     33.64|   Credit Card|San Francisco|   Warehouse Club|            true|          Retiree|Spring|                None|\n",
      "|    1000000015|2021-01-01|  Jesse Henderson|['Cereal', 'Vineg...|          7|     29.57|Mobile Payment|San Francisco|Convenience Store|           false|          Retiree|Winter|BOGO (Buy One Get...|\n",
      "|    1000000016|2021-10-15|        Eric Wall|['Air Freshener',...|          5|      99.7|Mobile Payment|        Miami|  Specialty Store|            true|        Homemaker|Spring|                None|\n",
      "|    1000000017|2021-09-16|     Vanessa Peck|['Power Strips', ...|          8|     15.62|   Credit Card|San Francisco| Department Store|           false|   Senior Citizen|  Fall|                None|\n",
      "|    1000000018|2022-07-18|  Dominique Stout|['Mustard', 'Dust...|          3|     98.28|Mobile Payment|     New York|   Warehouse Club|           false|     Professional|  Fall|BOGO (Buy One Get...|\n",
      "|    1000000019|2021-01-31|   Charles Brooks|          ['Coffee']|          7|     96.77|    Debit Card|      Chicago| Department Store|            true|        Homemaker|Winter|Discount on Selec...|\n",
      "+--------------+----------+-----------------+--------------------+-----------+----------+--------------+-------------+-----------------+----------------+-----------------+------+--------------------+\n",
      "only showing top 20 rows\n",
      "\n"
     ]
    }
   ],
   "source": [
    "# Show the DataFrame\n",
    "df.show()"
   ]
  },
  {
   "cell_type": "markdown",
   "metadata": {
    "application/vnd.databricks.v1+cell": {
     "cellMetadata": {
      "byteLimit": 2048000,
      "rowLimit": 10000
     },
     "inputWidgets": {},
     "nuid": "fdd2ec89-c117-4bff-9e2f-47a0391be289",
     "showTitle": false,
     "title": ""
    }
   },
   "source": [
    "### Handle Missing Values Using Imputer Class\n"
   ]
  },
  {
   "cell_type": "code",
   "execution_count": 0,
   "metadata": {
    "application/vnd.databricks.v1+cell": {
     "cellMetadata": {
      "byteLimit": 2048000,
      "rowLimit": 10000
     },
     "inputWidgets": {},
     "nuid": "1849d8fd-bf07-4009-a372-1b1faf713a73",
     "showTitle": false,
     "title": ""
    }
   },
   "outputs": [],
   "source": [
    "from pyspark.ml.feature import Imputer"
   ]
  },
  {
   "cell_type": "code",
   "execution_count": 0,
   "metadata": {
    "application/vnd.databricks.v1+cell": {
     "cellMetadata": {
      "byteLimit": 2048000,
      "rowLimit": 10000
     },
     "inputWidgets": {},
     "nuid": "b9759ddf-1d61-4b38-aa63-06f044133e29",
     "showTitle": false,
     "title": ""
    }
   },
   "outputs": [],
   "source": [
    "### Handle Missing Numerical Values ###\n",
    "imputer = Imputer(inputCols=['Total_Items','Total_Cost'], outputCols=['_Total_Items','_Total_Cost']).setStrategy(\"mean\")\n",
    "df = imputer.fit(df).transform(df)"
   ]
  },
  {
   "cell_type": "code",
   "execution_count": 0,
   "metadata": {
    "application/vnd.databricks.v1+cell": {
     "cellMetadata": {
      "byteLimit": 2048000,
      "rowLimit": 10000
     },
     "inputWidgets": {},
     "nuid": "6473c272-91f8-4ed4-b379-e9a0e4434b99",
     "showTitle": false,
     "title": ""
    }
   },
   "outputs": [
    {
     "name": "stdout",
     "output_type": "stream",
     "text": [
      "+--------------+----------+-----------------+--------------------+--------------+-------------+-----------------+----------------+-----------------+------+--------------------+-----------+----------+\n",
      "|Transaction_ID|      Date|    Customer_Name|             Product|Payment_Method|         City|       Store_Type|Discount_Applied|Customer_Category|Season|           Promotion|Total_Items|Total_Cost|\n",
      "+--------------+----------+-----------------+--------------------+--------------+-------------+-----------------+----------------+-----------------+------+--------------------+-----------+----------+\n",
      "|    1000000000|2022-01-21|     Stacey Price|['Ketchup', 'Shav...|Mobile Payment|  Los Angeles|   Warehouse Club|            true|        Homemaker|Winter|                None|          3|     71.65|\n",
      "|    1000000001|2023-03-01| Michelle Carlson|['Ice Cream', 'Mi...|          Cash|San Francisco|  Specialty Store|            true|     Professional|  Fall|BOGO (Buy One Get...|          2|     25.93|\n",
      "|    1000000002|2024-03-21|      Lisa Graves|         ['Spinach']|   Credit Card|      Houston| Department Store|            true|     Professional|Winter|                None|          6|     41.49|\n",
      "|    1000000003|2020-10-31|Mrs. Patricia May|['Tissues', 'Must...|Mobile Payment|      Chicago|         Pharmacy|            true|        Homemaker|Spring|                None|          1|     39.34|\n",
      "|    1000000004|2020-12-10|   Susan Mitchell|       ['Dish Soap']|    Debit Card|      Houston|  Specialty Store|           false|      Young Adult|Winter|Discount on Selec...|         10|     16.42|\n",
      "|    1000000005|2021-10-07|   Joshua Frazier|['Toothpaste', 'C...|          Cash|      Houston|      Supermarket|            true|          Retiree|Spring|Discount on Selec...|          3|     72.24|\n",
      "|    1000000006|2023-01-08| Victoria Garrett|['Honey', 'BBQ Sa...|          Cash|       Boston|  Specialty Store|           false|          Student|Summer|Discount on Selec...|          4|      5.28|\n",
      "|    1000000007|2020-09-03|    Sydney Waller|['Syrup', 'Trash ...|    Debit Card|      Chicago|  Specialty Store|           false|      Young Adult|Winter|Discount on Selec...|          5|     21.77|\n",
      "|    1000000008|2021-04-05|  Kimberly Morgan|['Insect Repellent']|Mobile Payment|  Los Angeles|   Warehouse Club|           false|        Homemaker|  Fall|                None|          4|     55.25|\n",
      "|    1000000009|2021-07-08|      Lori Conway|['Soap', 'Baby Wi...|Mobile Payment|       Boston|Convenience Store|            true|      Young Adult|Winter|                None|          7|     31.21|\n",
      "|    1000000010|2020-03-18|  Randall Roberts|['Extension Cords...|    Debit Card|       Boston| Department Store|            true|      Middle-Aged|  Fall|BOGO (Buy One Get...|          8|     91.59|\n",
      "|    1000000011|2023-03-30|   Jeremiah White|['Tea', 'Paper To...|Mobile Payment|     New York|  Specialty Store|           false|      Young Adult|  Fall|Discount on Selec...|          7|     31.88|\n",
      "|    1000000012|2023-05-27|     Sheila Mcgee|['Salmon', 'Shavi...|    Debit Card|     New York|         Pharmacy|           false|          Student|Summer|Discount on Selec...|          9|     39.75|\n",
      "|    1000000013|2023-04-02|      Allen Miles|['Trash Bags', 'A...|Mobile Payment|      Seattle|   Warehouse Club|           false|          Retiree|Winter|BOGO (Buy One Get...|          7|     17.51|\n",
      "|    1000000014|2020-04-09|      Mark Howard|['Razors', 'Laund...|   Credit Card|San Francisco|   Warehouse Club|            true|          Retiree|Spring|                None|          1|     33.64|\n",
      "|    1000000015|2021-01-01|  Jesse Henderson|['Cereal', 'Vineg...|Mobile Payment|San Francisco|Convenience Store|           false|          Retiree|Winter|BOGO (Buy One Get...|          7|     29.57|\n",
      "|    1000000016|2021-10-15|        Eric Wall|['Air Freshener',...|Mobile Payment|        Miami|  Specialty Store|            true|        Homemaker|Spring|                None|          5|      99.7|\n",
      "|    1000000017|2021-09-16|     Vanessa Peck|['Power Strips', ...|   Credit Card|San Francisco| Department Store|           false|   Senior Citizen|  Fall|                None|          8|     15.62|\n",
      "|    1000000018|2022-07-18|  Dominique Stout|['Mustard', 'Dust...|Mobile Payment|     New York|   Warehouse Club|           false|     Professional|  Fall|BOGO (Buy One Get...|          3|     98.28|\n",
      "|    1000000019|2021-01-31|   Charles Brooks|          ['Coffee']|    Debit Card|      Chicago| Department Store|            true|        Homemaker|Winter|Discount on Selec...|          7|     96.77|\n",
      "+--------------+----------+-----------------+--------------------+--------------+-------------+-----------------+----------------+-----------------+------+--------------------+-----------+----------+\n",
      "only showing top 20 rows\n",
      "\n"
     ]
    }
   ],
   "source": [
    "# Drop the old columns and rename the new ones in a single operation\n",
    "df = df.drop('Total_Items', 'Total_Cost') \\\n",
    "       .withColumnRenamed('_Total_Items', 'Total_Items') \\\n",
    "       .withColumnRenamed('_Total_Cost', 'Total_Cost')\n",
    "\n",
    "# Show the updated DataFrame\n",
    "df.show()\n"
   ]
  },
  {
   "cell_type": "code",
   "execution_count": 0,
   "metadata": {
    "application/vnd.databricks.v1+cell": {
     "cellMetadata": {
      "byteLimit": 2048000,
      "rowLimit": 10000
     },
     "inputWidgets": {},
     "nuid": "b403cbfd-f576-4f18-a68a-22a6b39ed64f",
     "showTitle": false,
     "title": ""
    }
   },
   "outputs": [],
   "source": [
    "# Define the categorical columns for which you want to handle missing values\n",
    "categorical_cols = ['Promotion', 'Season', 'Customer_Category', 'Store_Type', 'City', 'Payment_Method']\n",
    "\n",
    "# Loop through each categorical column to calculate the mode and fill missing values\n",
    "for col_name in categorical_cols:\n",
    "    # Calculate the most frequent value (mode) for the column\n",
    "    mode_value = df.groupBy(col_name).agg(F.first(col_name).alias(\"most_frequent_value\"), \n",
    "                                          F.count(col_name).alias(\"count\")) \\\n",
    "                    .orderBy(F.desc(\"count\")) \\\n",
    "                    .first()[0]  # Get the mode value\n",
    "    \n",
    "    # Fill missing values in the column with the mode\n",
    "    df = df.na.fill({col_name: mode_value})\n"
   ]
  },
  {
   "cell_type": "code",
   "execution_count": 0,
   "metadata": {
    "application/vnd.databricks.v1+cell": {
     "cellMetadata": {
      "byteLimit": 2048000,
      "rowLimit": 10000
     },
     "inputWidgets": {},
     "nuid": "73f84470-b397-4ed0-9211-7f58a0c2c4de",
     "showTitle": false,
     "title": ""
    }
   },
   "outputs": [
    {
     "data": {
      "application/vnd.databricks.v1+bamboolib_hint": "{\"pd.DataFrames\": [], \"version\": \"0.0.1\"}",
      "text/plain": []
     },
     "metadata": {},
     "output_type": "display_data"
    }
   ],
   "source": [
    "import matplotlib.pyplot as plt\n",
    "import pandas as pd\n",
    "from pyspark.sql.functions import col"
   ]
  },
  {
   "cell_type": "code",
   "execution_count": 0,
   "metadata": {
    "application/vnd.databricks.v1+cell": {
     "cellMetadata": {
      "byteLimit": 2048000,
      "rowLimit": 10000
     },
     "inputWidgets": {},
     "nuid": "28e1486a-b707-4c32-86cd-2341c65e863c",
     "showTitle": false,
     "title": ""
    }
   },
   "outputs": [
    {
     "data": {
      "image/png": "[encoded data removed]"
     },
     "metadata": {
      "application/vnd.databricks.v1+output": {
       "addedWidgets": {},
       "arguments": {},
       "data": "data:image/png;base64,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\n",
       "datasetInfos": [],
       "metadata": {},
       "removedWidgets": [],
       "type": "image"
      }
     },
     "output_type": "display_data"
    }
   ],
   "source": [
    "# Convert the relevant column to Pandas DataFrame\n",
    "total_costs = df.select(col('Total_Cost')).toPandas()['Total_Cost']\n",
    "\n",
    "# Plot the histogram of 'Total_Cost'\n",
    "plt.hist(total_costs, bins=30, edgecolor='black')\n",
    "plt.axvline(total_costs.mean(), color=\"red\", linewidth=2, linestyle='--')  # Plot the mean\n",
    "plt.title(\"Cost Distribution\")\n",
    "plt.xlabel(\"Total Cost\")\n",
    "plt.ylabel(\"Frequency\")\n",
    "plt.show()\n"
   ]
  },
  {
   "cell_type": "markdown",
   "metadata": {
    "application/vnd.databricks.v1+cell": {
     "cellMetadata": {
      "byteLimit": 2048000,
      "rowLimit": 10000
     },
     "inputWidgets": {},
     "nuid": "41ec8379-e19b-4c6a-a59f-293b6793cfcf",
     "showTitle": false,
     "title": ""
    }
   },
   "source": [
    "## Features enginering"
   ]
  },
  {
   "cell_type": "code",
   "execution_count": 0,
   "metadata": {
    "application/vnd.databricks.v1+cell": {
     "cellMetadata": {
      "byteLimit": 2048000,
      "rowLimit": 10000
     },
     "inputWidgets": {},
     "nuid": "fc268afa-5495-4052-895f-3d4b0025ec15",
     "showTitle": false,
     "title": ""
    }
   },
   "outputs": [],
   "source": [
    "# Extract Date Features\n",
    "df = df.withColumn('Year', F.year('Date')) \\\n",
    "                       .withColumn('Month', F.month('Date')) \\\n",
    "                       .withColumn('Day', F.dayofmonth('Date')) \\\n",
    "                       .withColumn('DayOfWeek', F.dayofweek('Date')) \\\n",
    "                       .withColumn('IsWeekend', (F.dayofweek('Date') >= 6).cast('int'))  # 1 = Sunday, 7 = Saturday"
   ]
  },
  {
   "cell_type": "code",
   "execution_count": 0,
   "metadata": {
    "application/vnd.databricks.v1+cell": {
     "cellMetadata": {
      "byteLimit": 2048000,
      "rowLimit": 10000
     },
     "inputWidgets": {},
     "nuid": "097df1b3-b76e-4f07-9934-5b345f8ceaf1",
     "showTitle": false,
     "title": ""
    }
   },
   "outputs": [],
   "source": [
    "# Create Interaction Features\n",
    "df = df.withColumn('Total_Cost_Per_Item', \n",
    "                                    df['Total_Cost'] / df['Total_Items'])"
   ]
  },
  {
   "cell_type": "code",
   "execution_count": 0,
   "metadata": {
    "application/vnd.databricks.v1+cell": {
     "cellMetadata": {
      "byteLimit": 2048000,
      "rowLimit": 10000
     },
     "inputWidgets": {},
     "nuid": "75ccc134-fd7f-4388-95a9-2946e135f512",
     "showTitle": false,
     "title": ""
    }
   },
   "outputs": [],
   "source": [
    "\n",
    "# 4. Create Text Features (example if Customer_Name is a text column)\n",
    "df = df.withColumn('Customer_Name_Length', F.length('Customer_Name'))"
   ]
  },
  {
   "cell_type": "code",
   "execution_count": 0,
   "metadata": {
    "application/vnd.databricks.v1+cell": {
     "cellMetadata": {
      "byteLimit": 2048000,
      "rowLimit": 10000
     },
     "inputWidgets": {},
     "nuid": "a5966082-4799-4a75-8f21-b6d76ee837b5",
     "showTitle": false,
     "title": ""
    }
   },
   "outputs": [],
   "source": [
    "# Aggregating Features (example: average Total_Cost by Customer_Category)\n",
    "average_cost_by_category = df.groupBy('Customer_Category') \\\n",
    "                                      .agg(F.avg('Total_Cost').alias('Avg_Total_Cost'))\n",
    "\n",
    "# Join back the average feature to the original DataFrame\n",
    "df = df.join(average_cost_by_category, on='Customer_Category', how='left')"
   ]
  },
  {
   "cell_type": "code",
   "execution_count": 0,
   "metadata": {
    "application/vnd.databricks.v1+cell": {
     "cellMetadata": {
      "byteLimit": 2048000,
      "rowLimit": 10000
     },
     "inputWidgets": {},
     "nuid": "c3419765-dbba-4b57-a630-2b88ec2dba72",
     "showTitle": false,
     "title": ""
    }
   },
   "outputs": [
    {
     "name": "stdout",
     "output_type": "stream",
     "text": [
      "+-----------------+--------------+----------+-----------------+--------------------+--------------+-------------+-----------------+----------------+------+--------------------+-----------+----------+----+-----+---+---------+---------+-------------------+--------------------+-----------------+\n",
      "|Customer_Category|Transaction_ID|      Date|    Customer_Name|             Product|Payment_Method|         City|       Store_Type|Discount_Applied|Season|           Promotion|Total_Items|Total_Cost|Year|Month|Day|DayOfWeek|IsWeekend|Total_Cost_Per_Item|Customer_Name_Length|   Avg_Total_Cost|\n",
      "+-----------------+--------------+----------+-----------------+--------------------+--------------+-------------+-----------------+----------------+------+--------------------+-----------+----------+----+-----+---+---------+---------+-------------------+--------------------+-----------------+\n",
      "|         Teenager|    1000000020|2021-10-31|     Angela Jones|['Pancake Mix', '...|          Cash|      Houston|         Pharmacy|           false|Winter|Discount on Selec...|          7|     83.86|2021|   10| 31|        1|        0|  11.98000008719308|                  12|52.52909119915539|\n",
      "|          Student|    1000000006|2023-01-08| Victoria Garrett|['Honey', 'BBQ Sa...|          Cash|       Boston|  Specialty Store|           false|Summer|Discount on Selec...|          4|      5.28|2023|    1|  8|        1|        0| 1.3200000524520874|                  16|52.48799410517715|\n",
      "|          Student|    1000000012|2023-05-27|     Sheila Mcgee|['Salmon', 'Shavi...|    Debit Card|     New York|         Pharmacy|           false|Summer|Discount on Selec...|          9|     39.75|2023|    5| 27|        7|        1|  4.416666666666667|                  12|52.48799410517715|\n",
      "|          Retiree|    1000000005|2021-10-07|   Joshua Frazier|['Toothpaste', 'C...|          Cash|      Houston|      Supermarket|            true|Spring|Discount on Selec...|          3|     72.24|2021|   10|  7|        5|        0| 24.079999287923176|                  14|52.43558870098681|\n",
      "|          Retiree|    1000000013|2023-04-02|      Allen Miles|['Trash Bags', 'A...|Mobile Payment|      Seattle|   Warehouse Club|           false|Winter|BOGO (Buy One Get...|          7|     17.51|2023|    4|  2|        1|        0| 2.5014286041259766|                  11|52.43558870098681|\n",
      "|          Retiree|    1000000014|2020-04-09|      Mark Howard|['Razors', 'Laund...|   Credit Card|San Francisco|   Warehouse Club|            true|Spring|                None|          1|     33.64|2020|    4|  9|        5|        0|  33.63999938964844|                  11|52.43558870098681|\n",
      "|          Retiree|    1000000015|2021-01-01|  Jesse Henderson|['Cereal', 'Vineg...|Mobile Payment|San Francisco|Convenience Store|           false|Winter|BOGO (Buy One Get...|          7|     29.57|2021|    1|  1|        6|        1| 4.2242856706891745|                  15|52.43558870098681|\n",
      "|        Homemaker|    1000000000|2022-01-21|     Stacey Price|['Ketchup', 'Shav...|Mobile Payment|  Los Angeles|   Warehouse Club|            true|Winter|                None|          3|     71.65|2022|    1| 21|        6|        1| 23.883333841959637|                  12|52.46141677763236|\n",
      "|        Homemaker|    1000000003|2020-10-31|Mrs. Patricia May|['Tissues', 'Must...|Mobile Payment|      Chicago|         Pharmacy|            true|Spring|                None|          1|     39.34|2020|   10| 31|        7|        1|  39.34000015258789|                  17|52.46141677763236|\n",
      "|        Homemaker|    1000000008|2021-04-05|  Kimberly Morgan|['Insect Repellent']|Mobile Payment|  Los Angeles|   Warehouse Club|           false|  Fall|                None|          4|     55.25|2021|    4|  5|        2|        0|            13.8125|                  15|52.46141677763236|\n",
      "|        Homemaker|    1000000016|2021-10-15|        Eric Wall|['Air Freshener',...|Mobile Payment|        Miami|  Specialty Store|            true|Spring|                None|          5|      99.7|2021|   10| 15|        6|        1| 19.939999389648438|                   9|52.46141677763236|\n",
      "|        Homemaker|    1000000019|2021-01-31|   Charles Brooks|          ['Coffee']|    Debit Card|      Chicago| Department Store|            true|Winter|Discount on Selec...|          7|     96.77|2021|    1| 31|        1|        0| 13.824285234723773|                  14|52.46141677763236|\n",
      "|   Senior Citizen|    1000000017|2021-09-16|     Vanessa Peck|['Power Strips', ...|   Credit Card|San Francisco| Department Store|           false|  Fall|                None|          8|     15.62|2021|    9| 16|        5|        0| 1.9524999856948853|                  12|52.34267195482228|\n",
      "|      Young Adult|    1000000004|2020-12-10|   Susan Mitchell|       ['Dish Soap']|    Debit Card|      Houston|  Specialty Store|           false|Winter|Discount on Selec...|         10|     16.42|2020|   12| 10|        5|        0| 1.6420000076293946|                  14| 52.4482459901172|\n",
      "|      Young Adult|    1000000007|2020-09-03|    Sydney Waller|['Syrup', 'Trash ...|    Debit Card|      Chicago|  Specialty Store|           false|Winter|Discount on Selec...|          5|     21.77|2020|    9|  3|        5|        0|  4.354000091552734|                  13| 52.4482459901172|\n",
      "|      Young Adult|    1000000009|2021-07-08|      Lori Conway|['Soap', 'Baby Wi...|Mobile Payment|       Boston|Convenience Store|            true|Winter|                None|          7|     31.21|2021|    7|  8|        5|        0|  4.458571297781808|                  11| 52.4482459901172|\n",
      "|      Young Adult|    1000000011|2023-03-30|   Jeremiah White|['Tea', 'Paper To...|Mobile Payment|     New York|  Specialty Store|           false|  Fall|Discount on Selec...|          7|     31.88|2023|    3| 30|        5|        0|  4.554285594395229|                  14| 52.4482459901172|\n",
      "|     Professional|    1000000001|2023-03-01| Michelle Carlson|['Ice Cream', 'Mi...|          Cash|San Francisco|  Specialty Store|            true|  Fall|BOGO (Buy One Get...|          2|     25.93|2023|    3|  1|        4|        0|  12.96500015258789|                  16|52.52576209143268|\n",
      "|     Professional|    1000000002|2024-03-21|      Lisa Graves|         ['Spinach']|   Credit Card|      Houston| Department Store|            true|Winter|                None|          6|     41.49|2024|    3| 21|        5|        0|  6.915000279744466|                  11|52.52576209143268|\n",
      "|     Professional|    1000000018|2022-07-18|  Dominique Stout|['Mustard', 'Dust...|Mobile Payment|     New York|   Warehouse Club|           false|  Fall|BOGO (Buy One Get...|          3|     98.28|2022|    7| 18|        2|        0|  32.75999959309896|                  15|52.52576209143268|\n",
      "+-----------------+--------------+----------+-----------------+--------------------+--------------+-------------+-----------------+----------------+------+--------------------+-----------+----------+----+-----+---+---------+---------+-------------------+--------------------+-----------------+\n",
      "only showing top 20 rows\n",
      "\n"
     ]
    }
   ],
   "source": [
    "# Show the DataFrame after feature generation\n",
    "df.show()"
   ]
  },
  {
   "cell_type": "markdown",
   "metadata": {
    "application/vnd.databricks.v1+cell": {
     "cellMetadata": {
      "byteLimit": 2048000,
      "rowLimit": 10000
     },
     "inputWidgets": {},
     "nuid": "a504a38e-78b1-4e37-a2b3-ed60eb0eba49",
     "showTitle": false,
     "title": ""
    }
   },
   "source": [
    "## Sve the result in to my SnowFlake account"
   ]
  },
  {
   "cell_type": "code",
   "execution_count": 0,
   "metadata": {
    "application/vnd.databricks.v1+cell": {
     "cellMetadata": {
      "byteLimit": 2048000,
      "rowLimit": 10000
     },
     "inputWidgets": {},
     "nuid": "698e3bf3-a1b9-4f3d-8719-4fae9090e888",
     "showTitle": false,
     "title": ""
    }
   },
   "outputs": [],
   "source": [
    "# Save the DataFrame to DBFS as Parquet\n",
    "# df.write.mode(\"overwrite\").parquet(\"/dbfs/tmp/imputed_data.parquet\")"
   ]
  },
  {
   "cell_type": "code",
   "execution_count": 0,
   "metadata": {
    "application/vnd.databricks.v1+cell": {
     "cellMetadata": {
      "byteLimit": 2048000,
      "rowLimit": 10000
     },
     "inputWidgets": {},
     "nuid": "204eca52-25a5-4101-9516-965197a33453",
     "showTitle": false,
     "title": ""
    }
   },
   "outputs": [],
   "source": [
    "# Define Snowflake connection options\n",
    "snowflake_options = {\n",
    "    \"sfURL\": \"\",  # Replace with your Snowflake account URL\n",
    "    \"sfDatabase\": \"transactions_db\",  # Replace with your Snowflake database name\n",
    "    \"sfSchema\": \"transactions_schema\",  # Replace with your Snowflake schema name\n",
    "    \"sfWarehouse\": \"transactions_warehouse\",  # Replace with your Snowflake warehouse name\n",
    "    \"sfRole\": \"accountrole\",  # Optional: Specify your Snowflake role if necessary\n",
    "    \"sfUser\": \"\",  # Replace with your Snowflake username\n",
    "    \"sfPassword\": \"\"  # Replace with your Snowflake password\n",
    "}\n",
    "\n",
    "#Write DataFrame to Snowflake\n",
    "df.write.format(\"snowflake\").options(**snowflake_options).option(\"dbtable\",\"ttrans\").mode(\"overwrite\").save()\n"
   ]
  },
  {
   "cell_type": "markdown",
   "metadata": {},
   "source": [
    "### Confirm the data has been written"
   ]
  },
  {
   "cell_type": "code",
   "execution_count": 0,
   "metadata": {
    "application/vnd.databricks.v1+cell": {
     "cellMetadata": {
      "byteLimit": 2048000,
      "rowLimit": 10000
     },
     "inputWidgets": {},
     "nuid": "bf00b642-a7a0-4557-8196-b0609952ab62",
     "showTitle": false,
     "title": ""
    }
   },
   "outputs": [
    {
     "data": {
      "text/html": [
       "<style scoped>\n",
       "  .ansiout {\n",
       "    display: block;\n",
       "    unicode-bidi: embed;\n",
       "    white-space: pre-wrap;\n",
       "    word-wrap: break-word;\n",
       "    word-break: break-all;\n",
       "    font-family: \"Menlo\", \"Monaco\", \"Consolas\", \"Ubuntu Mono\", \"Source Code Pro\", monospace;\n",
       "    font-size: 13px;\n",
       "    color: #555;\n",
       "    margin-left: 4px;\n",
       "    line-height: 19px;\n",
       "  }\n",
       "</style>"
      ]
     },
     "metadata": {
      "application/vnd.databricks.v1+output": {
       "arguments": {},
       "data": "",
       "errorSummary": "Cancelled",
       "errorTraceType": "html",
       "metadata": {},
       "type": "ipynbError"
      }
     },
     "output_type": "display_data"
    }
   ],
   "source": [
    "\n",
    "# You can read back from Snowflake to confirm the write operation\n",
    "df_snowflake = spark.read \\\n",
    "    .format(\"snowflake\") \\\n",
    "    .options(**snowflake_options) \\\n",
    "    .option(\"dbtable\",\"ttrans\") \\\n",
    "    .load()\n",
    "\n",
    "df_snowflake.show()  # Display the data from Snowflake"
   ]
  }
 ],
 "metadata": {
  "application/vnd.databricks.v1+notebook": {
   "dashboards": [],
   "environmentMetadata": null,
   "language": "python",
   "notebookMetadata": {
    "pythonIndentUnit": 4
   },
   "notebookName": "Retail Transactions",
   "widgets": {}
  },
  "kernelspec": {
   "display_name": "Python 3 (ipykernel)",
   "language": "python",
   "name": "python3"
  },
  "language_info": {
   "codemirror_mode": {
    "name": "ipython",
    "version": 3
   },
   "file_extension": ".py",
   "mimetype": "text/x-python",
   "name": "python",
   "nbconvert_exporter": "python",
   "pygments_lexer": "ipython3",
   "version": "3.9.19"
  }
 },
 "nbformat": 4,
 "nbformat_minor": 1
}
